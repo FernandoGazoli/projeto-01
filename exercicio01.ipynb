{
 "cells": [
  {
   "cell_type": "markdown",
   "metadata": {},
   "source": [
    "6.1 - Desafio 🔥🔥🔥\n",
    "\n",
    "Neste desafio, vamos aumentar um pouquinho o nível de complexidade do exercício. Vamos utilizar os conceitos que praticamos acima, junto com as estruturas de repetição e condicionais para resolver o problema.\n",
    "\n",
    "**Problema**\n",
    "\n",
    "A lista abaixo contém as seguintes informações de pessoas que pretendem dirigir:\n",
    "\n",
    "- `nome`: nome da pessoa\n",
    "- `carteira`: **`True`** para as que possuem, **`False`** para as que não possuem\n",
    "- `idade`:a idade da pessoa\n",
    "\n",
    "Precisamos percorrer toda a lista e verificar se a pessoa pode ou não dirigir. Só podem dirigir as que possuem carteira **E** que a idade é maior ou igual a 18 anos.\n",
    "\n",
    "- para as pessoas que podem dirigir, imprima a frase: **`nome pode dirigir.`**\n",
    "- para as que não podem, imprima: **`nome não pode dirigir!`**"
   ]
  },
  {
   "cell_type": "code",
   "execution_count": null,
   "metadata": {},
   "outputs": [],
   "source": []
  },
  {
   "cell_type": "code",
   "execution_count": null,
   "metadata": {},
   "outputs": [],
   "source": []
  },
  {
   "cell_type": "code",
   "execution_count": 7,
   "metadata": {},
   "outputs": [],
   "source": [
    "pessoas = [ ('Vinicius', True, 21), ('Gabriel', False, 25), ('Ana', True, 20), ('Victor', True, 30), ('Lucas', False, 15) ]"
   ]
  },
  {
   "cell_type": "code",
   "execution_count": 17,
   "metadata": {},
   "outputs": [
    {
     "name": "stdout",
     "output_type": "stream",
     "text": [
      "Vinicius tem carteira e pode dirigir.\n",
      "Ana tem carteira e pode dirigir.\n",
      "Victor tem carteira e pode dirigir.\n"
     ]
    }
   ],
   "source": [
    "for pessoa in pessoas:\n",
    "    if pessoa[1] and pessoa[2] >= 18:\n",
    "        print(f'{pessoa[0]} tem carteira e pode dirigir.')"
   ]
  },
  {
   "cell_type": "code",
   "execution_count": null,
   "metadata": {},
   "outputs": [],
   "source": []
  }
 ],
 "metadata": {
  "kernelspec": {
   "display_name": "base",
   "language": "python",
   "name": "python3"
  },
  "language_info": {
   "codemirror_mode": {
    "name": "ipython",
    "version": 3
   },
   "file_extension": ".py",
   "mimetype": "text/x-python",
   "name": "python",
   "nbconvert_exporter": "python",
   "pygments_lexer": "ipython3",
   "version": "3.9.13"
  },
  "orig_nbformat": 4,
  "vscode": {
   "interpreter": {
    "hash": "d8ec4a234a3048a765173e7b64119a8d1a8e4ce4548f9a2d0fe97ce15d6f4926"
   }
  }
 },
 "nbformat": 4,
 "nbformat_minor": 2
}
